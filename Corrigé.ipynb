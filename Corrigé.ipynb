{
 "cells": [
  {
   "cell_type": "markdown",
   "id": "55fae778",
   "metadata": {},
   "source": [
    "# II Travail préparatoire"
   ]
  },
  {
   "cell_type": "markdown",
   "id": "8582488f",
   "metadata": {},
   "source": [
    "1 Expliciter la fonctionnelle $\\vec{F}$."
   ]
  },
  {
   "cell_type": "markdown",
   "id": "2b9f0095",
   "metadata": {},
   "source": [
    "En notant $u_0 = z$ et $u_1 = V$ les deux composantes du vecteur $\\vec{u}$ il vient\n",
    "$\\dfrac{{\\rm d} u_0}{{\\rm d}t} = -V = -u_1$ d'une part et $\\dfrac{{\\rm d} u_1}{{\\rm d}t} = \\dfrac{{\\rm d} V}{{\\rm d}t} = g - \\dfrac{1}{2m}\\times\\rho\\left(u_0\\right)\\times S\\times c_x \\times u_1^2$ d'autre part."
   ]
  },
  {
   "cell_type": "markdown",
   "id": "96ca886b",
   "metadata": {},
   "source": [
    "2 Relations de récurrences\n"
   ]
  },
  {
   "cell_type": "markdown",
   "id": "22975867",
   "metadata": {},
   "source": [
    "$t_{k+1} = t_k + pas$\n",
    "\n",
    "$z_{k+1} = z_k - V_k \\times pas$ Attention au signe moins ici à cause de la définition de $V$\n",
    "\n",
    "$V_{k+1} = V_k + \\left(g - \\dfrac{1}{2m}\\times\\rho\\left(z_k\\right)\\times S\\times c_x \\times V_k^2 \\right) \\times pas$"
   ]
  },
  {
   "cell_type": "markdown",
   "id": "a70d0a5a",
   "metadata": {},
   "source": [
    "3 Écrire une fonction maxi"
   ]
  },
  {
   "cell_type": "code",
   "execution_count": 1,
   "id": "8522646b",
   "metadata": {},
   "outputs": [],
   "source": [
    "def maxi(L):\n",
    "    imax = 0 # Indice du maximum courant\n",
    "    max_c = L[0] # Maximum courant. On suppose la liste non vide !\n",
    "    for i in range(1,len(L)): # On peut commencer à l'indice 1\n",
    "        if L[i] > max_c:\n",
    "            max_c = L[i]\n",
    "            imax = i\n",
    "    return [max_c, imax] # On rend ici une liste à deux éléments"
   ]
  },
  {
   "cell_type": "code",
   "execution_count": 2,
   "id": "a1916baf",
   "metadata": {},
   "outputs": [
    {
     "data": {
      "text/plain": [
       "[9, 3]"
      ]
     },
     "execution_count": 2,
     "metadata": {},
     "output_type": "execute_result"
    }
   ],
   "source": [
    "maxi ([1, 3, -2, 9, 4, 6]) # On teste sur un exemple qui doit rendre [9, 3]"
   ]
  },
  {
   "cell_type": "markdown",
   "id": "cd6c52df",
   "metadata": {},
   "source": [
    "4 Fonction rho"
   ]
  },
  {
   "cell_type": "code",
   "execution_count": 11,
   "id": "965ab861",
   "metadata": {},
   "outputs": [],
   "source": [
    "# Import de la fonction exponentielle\n",
    "from math import exp\n",
    "\n",
    "# Je choisis de définir toutes les constantes de manière globale. Elles pourront être utilisées dans les fonctions python\n",
    "m = 130 # En kg\n",
    "S = 1 # En m^2\n",
    "cx = 0.8 # Sans unité\n",
    "g = 9.81 # En m/s^2\n",
    "\n",
    "zp = 2500 # En m. Altitude ouverture du parachute\n",
    "c = 300 # En m/s Vitesse du son à -50°C\n",
    "\n",
    "rho_0 = 1.2 # En kg/m^3\n",
    "H = 7000 # En m\n",
    "def rho(z):\n",
    "    return rho_0 * exp ( - z / H)\n"
   ]
  },
  {
   "cell_type": "markdown",
   "id": "25120d38",
   "metadata": {},
   "source": [
    "# III Mise en oeuvre de la méthode d'Euler"
   ]
  },
  {
   "cell_type": "code",
   "execution_count": 4,
   "id": "e80f00d5",
   "metadata": {},
   "outputs": [],
   "source": [
    "def euler (pas, z0):\n",
    "    tc = 0\n",
    "    zc = z0\n",
    "    vc = 0\n",
    "    \n",
    "    liste_t = [tc]\n",
    "    liste_z = [zc]\n",
    "    liste_v = [vc]\n",
    "    \n",
    "    while (zc > zp):\n",
    "        tc = tc + pas\n",
    "        vc2 = vc + pas * (g - 0.5 * S * cx * rho(zc) * vc ** 2 / m) # vc2 est une autre variable intermédiaire pour ne pas écraser la valeur courante de la vitesse dont on a besoin pour le calcul du nouveau zc, afin de respecter les relations de récurrence données plus haut. D'autres choix sont possibles\n",
    "        zc = zc - vc * pas\n",
    "        vc = vc2\n",
    "        \n",
    "        liste_t.append(tc)\n",
    "        liste_z.append(zc)\n",
    "        liste_v.append(vc)\n",
    "    \n",
    "    return [liste_t, liste_z, liste_v]"
   ]
  },
  {
   "cell_type": "code",
   "execution_count": 9,
   "id": "b279c1d2",
   "metadata": {},
   "outputs": [],
   "source": [
    "resultat = euler(1, 39068)"
   ]
  },
  {
   "cell_type": "markdown",
   "id": "ea2c821f",
   "metadata": {},
   "source": [
    "# IV Tracé des courbes"
   ]
  },
  {
   "cell_type": "code",
   "execution_count": 21,
   "id": "0faf174d",
   "metadata": {},
   "outputs": [],
   "source": [
    "# Import de pyplot\n",
    "import matplotlib.pyplot as plt\n",
    "\n",
    "def courbes (pas, z0):\n",
    "    resultat = euler(1, z0)\n",
    "    \n",
    "    plt.figure()\n",
    "    plt.title(\"Altitude en fonction du temps\")\n",
    "    plt.plot(resultat[0], resultat[1])\n",
    "    plt.show()\n",
    "    \n",
    "    plt.figure(\"\")\n",
    "    plt.title(\"Vitesse en fonction de l'altitude\")\n",
    "    plt.plot(resultat[1], resultat[2])\n",
    "    vitesse_son = [c,c]\n",
    "    altitudes_extremes = [resultat[1][0], resultat[1][-1]]\n",
    "    plt.plot(altitudes_extremes, vitesse_son, \"--\")\n",
    "    plt.show()"
   ]
  },
  {
   "cell_type": "code",
   "execution_count": 22,
   "id": "1f453021",
   "metadata": {},
   "outputs": [
    {
     "data": {
      "image/png": "[encoded data removed]",
      "text/plain": [
       "<Figure size 432x288 with 1 Axes>"
      ]
     },
     "metadata": {
      "needs_background": "light"
     },
     "output_type": "display_data"
    },
    {
     "data": {
      "image/png": "[encoded data removed]",
      "text/plain": [
       "<Figure size 432x288 with 1 Axes>"
      ]
     },
     "metadata": {
      "needs_background": "light"
     },
     "output_type": "display_data"
    }
   ],
   "source": [
    "courbes (1, 39068)"
   ]
  },
  {
   "cell_type": "markdown",
   "id": "d7c5f3e9",
   "metadata": {},
   "source": [
    "# V Exploitation des résultats"
   ]
  },
  {
   "cell_type": "code",
   "execution_count": null,
   "id": "f7178a20",
   "metadata": {},
   "outputs": [],
   "source": []
  }
 ],
 "metadata": {
  "kernelspec": {
   "display_name": "Python 3",
   "language": "python",
   "name": "python3"
  },
  "language_info": {
   "codemirror_mode": {
    "name": "ipython",
    "version": 3
   },
   "file_extension": ".py",
   "mimetype": "text/x-python",
   "name": "python",
   "nbconvert_exporter": "python",
   "pygments_lexer": "ipython3",
   "version": "3.8.10"
  }
 },
 "nbformat": 4,
 "nbformat_minor": 5
}
