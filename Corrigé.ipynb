{
 "cells": [
  {
   "cell_type": "markdown",
   "id": "df31c6fb",
   "metadata": {},
   "source": [
    "# I Travail préparatoire"
   ]
  },
  {
   "cell_type": "markdown",
   "id": "7b9b8b73",
   "metadata": {},
   "source": [
    "1 Expliciter la fonctionnelle $\\vec{F}$."
   ]
  },
  {
   "cell_type": "markdown",
   "id": "f5d2549f",
   "metadata": {},
   "source": [
    "En notant $u_0 = z$ et $u_1 = V$ les deux composantes du vecteur $\\vec{u}$ il vient\n",
    "$\\dfrac{{\\rm d} u_0}{{\\rm d}t} = -V = -u_1$ d'une part et $\\dfrac{{\\rm d} u_1}{{\\rm d}t} = \\dfrac{{\\rm d} V}{{\\rm d}t} = g - \\dfrac{1}{2m}\\times\\rho\\left(u_0\\right)\\times S\\times c_x \\times u_1^2$ "
   ]
  },
  {
   "cell_type": "markdown",
   "id": "063e7c19",
   "metadata": {},
   "source": [
    "3 Écrire une fonction maxi"
   ]
  },
  {
   "cell_type": "code",
   "execution_count": 3,
   "id": "745216be",
   "metadata": {},
   "outputs": [],
   "source": [
    "def maxi(L):\n",
    "    imax = 0\n",
    "    M = L[0]\n",
    "    for i in range(1,len(L)):\n",
    "        if L[i] > M:\n",
    "            M = L[i]\n",
    "            imax = i\n",
    "    return [M, imax] # On rend ici une liste à deux éléments"
   ]
  },
  {
   "cell_type": "code",
   "execution_count": null,
   "id": "46bc890a",
   "metadata": {},
   "outputs": [],
   "source": []
  }
 ],
 "metadata": {
  "kernelspec": {
   "display_name": "Python 3",
   "language": "python",
   "name": "python3"
  },
  "language_info": {
   "codemirror_mode": {
    "name": "ipython",
    "version": 3
   },
   "file_extension": ".py",
   "mimetype": "text/x-python",
   "name": "python",
   "nbconvert_exporter": "python",
   "pygments_lexer": "ipython3",
   "version": "3.8.10"
  }
 },
 "nbformat": 4,
 "nbformat_minor": 5
}
