{
 "cells": [
  {
   "cell_type": "markdown",
   "id": "e081240c",
   "metadata": {},
   "source": [
    "# I Travail préparatoire"
   ]
  },
  {
   "cell_type": "markdown",
   "id": "e9c91007",
   "metadata": {},
   "source": [
    "1 Expliciter la fonctionnelle $\\vec{F}$."
   ]
  },
  {
   "cell_type": "markdown",
   "id": "96730ca3",
   "metadata": {},
   "source": [
    "En notant $u_0 = z$ et $u_1 = V$ les deux composantes du vecteur $\\vec{u}$ il vient\n",
    "$\\dfrac{{\\rm d} u_0}{{\\rm d}t} = -V = -u_1$ d'une part et $\\dfrac{{\\rm d} u_1}{{\\rm d}t} = \\dfrac{{\\rm d} V}{{\\rm d}t} = g - \\dfrac{1}{2m}\\times\\rho\\left(u_0\\right)\\times S\\times c_x \\times u_1^2$ "
   ]
  },
  {
   "cell_type": "markdown",
   "id": "f67dd598",
   "metadata": {},
   "source": [
    "3 Écrire une fonction maxi"
   ]
  },
  {
   "cell_type": "code",
   "execution_count": 4,
   "id": "c0c0b247",
   "metadata": {},
   "outputs": [],
   "source": [
    "def maxi(L):\n",
    "    imax = 0 # Indice du maximum courant\n",
    "    max_c = L[0] # Maximum courant. On suppose la liste non vide !\n",
    "    for i in range(1,len(L)): # On peut commencer à l'indice 1\n",
    "        if L[i] > max_c:\n",
    "            max_c = L[i]\n",
    "            imax = i\n",
    "    return [max_c, imax] # On rend ici une liste à deux éléments"
   ]
  },
  {
   "cell_type": "code",
   "execution_count": 7,
   "id": "646793e0",
   "metadata": {},
   "outputs": [
    {
     "data": {
      "text/plain": [
       "[9, 3]"
      ]
     },
     "execution_count": 7,
     "metadata": {},
     "output_type": "execute_result"
    }
   ],
   "source": [
    "maxi ([1, 3, -2, 9, 4, 6]) # On teste sur un exemple qui doit rendre [9, 3]"
   ]
  },
  {
   "cell_type": "code",
   "execution_count": null,
   "id": "d323f2a3",
   "metadata": {},
   "outputs": [],
   "source": []
  }
 ],
 "metadata": {
  "kernelspec": {
   "display_name": "Python 3",
   "language": "python",
   "name": "python3"
  },
  "language_info": {
   "codemirror_mode": {
    "name": "ipython",
    "version": 3
   },
   "file_extension": ".py",
   "mimetype": "text/x-python",
   "name": "python",
   "nbconvert_exporter": "python",
   "pygments_lexer": "ipython3",
   "version": "3.8.10"
  }
 },
 "nbformat": 4,
 "nbformat_minor": 5
}
